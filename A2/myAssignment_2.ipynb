{
  "nbformat": 4,
  "nbformat_minor": 0,
  "metadata": {
    "colab": {
      "name": "myAssignment-2.ipynb",
      "provenance": [],
      "collapsed_sections": []
    },
    "kernelspec": {
      "name": "python3",
      "display_name": "Python 3"
    },
    "language_info": {
      "name": "python"
    }
  },
  "cells": [
    {
      "cell_type": "markdown",
      "metadata": {
        "id": "wEaQkw5HKSgu"
      },
      "source": [
        "Assignment-2\n"
      ]
    },
    {
      "cell_type": "code",
      "metadata": {
        "id": "x3VUNyAX5THc"
      },
      "source": [
        "\n",
        "#Assignment-2\n",
        "#Date:29/06/2021\n",
        "#Amal V.V\n",
        "#amalvv2000cit@gmail.com\n"
      ],
      "execution_count": null,
      "outputs": []
    },
    {
      "cell_type": "code",
      "metadata": {
        "id": "W2x_ROY264up"
      },
      "source": [
        ""
      ],
      "execution_count": null,
      "outputs": []
    },
    {
      "cell_type": "markdown",
      "metadata": {
        "id": "gKteYrJHJpy4"
      },
      "source": [
        "# **FOOTBALL WINNER PREDICTOR (LOTTERY TYPE PROGRAM)**"
      ]
    },
    {
      "cell_type": "code",
      "metadata": {
        "colab": {
          "base_uri": "https://localhost:8080/"
        },
        "id": "UGippPybDDY5",
        "outputId": "45db537b-894c-43dd-bb51-bb7b30a9eee3"
      },
      "source": [
        "n=int(input(\"Enter Number of Team qualified for Euro Cup :\"))\n",
        "print(\"\\n\")\n",
        "Teams=[input(\"Enter the name of teams : \") for i in range(n)]\n",
        "\n",
        "print(\"\\n\")\n",
        "print(\"\\n\")\n",
        "\n",
        "print(\"THE TEAMS IN THE TOURNAMENT ARE : \",Teams)\n",
        "import random\n",
        "x=random.randint(0,n-1)\n",
        "\n",
        "print('\\n')\n",
        "print(\"The WINNER OF EURO 2021 IS............. \",Teams[x])\n"
      ],
      "execution_count": null,
      "outputs": [
        {
          "output_type": "stream",
          "text": [
            "Enter Number of Team qualified for Euro Cup :4\n",
            "\n",
            "\n",
            "Enter the name of teams : ENGLAND\n",
            "Enter the name of teams : SPAIN\n",
            "Enter the name of teams : ITALY\n",
            "Enter the name of teams : BELGIUM\n",
            "\n",
            "\n",
            "\n",
            "\n",
            "THE TEAMS IN THE TOURNAMENT ARE :  ['ENGLAND', 'SPAIN', 'ITALY', 'BELGIUM']\n",
            "\n",
            "\n",
            "The WINNER OF EURO 2021 IS.............  ITALY\n"
          ],
          "name": "stdout"
        }
      ]
    },
    {
      "cell_type": "code",
      "metadata": {
        "id": "M7iIv4UqIw6D"
      },
      "source": [
        ""
      ],
      "execution_count": null,
      "outputs": []
    }
  ]
}